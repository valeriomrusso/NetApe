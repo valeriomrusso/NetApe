{
 "cells": [
  {
   "cell_type": "code",
   "metadata": {
    "ExecuteTime": {
     "end_time": "2025-01-10T15:03:16.529765Z",
     "start_time": "2025-01-10T15:03:13.273215Z"
    }
   },
   "source": [
    "import gym\n",
    "import minihack\n",
    "import numpy as np\n",
    "import matplotlib.pyplot as plt\n",
    "import IPython.display as display"
   ],
   "outputs": [],
   "execution_count": 1
  },
  {
   "cell_type": "code",
   "metadata": {
    "ExecuteTime": {
     "end_time": "2025-01-10T15:14:43.396515Z",
     "start_time": "2025-01-10T15:14:43.375038Z"
    }
   },
   "source": [
    "from utils import *\n",
    "from algorithms import *"
   ],
   "outputs": [
    {
     "ename": "ImportError",
     "evalue": "cannot import name 'dfs' from 'algorithms' (/home/kcardona/projects/NetApe/algorithms.py)",
     "output_type": "error",
     "traceback": [
      "\u001B[0;31m---------------------------------------------------------------------------\u001B[0m",
      "\u001B[0;31mImportError\u001B[0m                               Traceback (most recent call last)",
      "Cell \u001B[0;32mIn[6], line 2\u001B[0m\n\u001B[1;32m      1\u001B[0m \u001B[38;5;28;01mfrom\u001B[39;00m \u001B[38;5;21;01mutils\u001B[39;00m \u001B[38;5;28;01mimport\u001B[39;00m \u001B[38;5;241m*\u001B[39m\n\u001B[0;32m----> 2\u001B[0m \u001B[38;5;28;01mfrom\u001B[39;00m \u001B[38;5;21;01malgorithms\u001B[39;00m \u001B[38;5;28;01mimport\u001B[39;00m dfs\n",
      "\u001B[0;31mImportError\u001B[0m: cannot import name 'dfs' from 'algorithms' (/home/kcardona/projects/NetApe/algorithms.py)"
     ]
    }
   ],
   "execution_count": 6
  },
  {
   "cell_type": "code",
   "metadata": {},
   "source": [
    "#Create our environment specifying the Map and what keys we have to observe \n",
    "env = gym.make(\"MiniHack-ExploreMaze-Hard-Mapped-v0\", observation_keys=(\"chars\", \"pixel\", \"blstats\", \"message\"))\n",
    "state = env.reset()\n",
    "\n",
    "coordinates = [500, 500]\n",
    "\n",
    "plt.imshow(state['pixel'][:coordinates[0], :coordinates[1]])\n",
    "\n",
    "game_map = state['chars']\n",
    "game = state['pixel']\n",
    "game_stats = state['blstats']\n",
    "game_mex = state['message']\n",
    "\n",
    "#game_map = np.array(game_map)\n",
    "\n",
    "start = get_player_location(game_map)\n",
    "target = get_target_location(game_map)\n",
    "hp = game_stats[6]\n",
    "print(\"Agent position:\", start)\n",
    "print(\"Target position:\", target)\n",
    "\n",
    "\n",
    "# Add Game Over function\n",
    "def display_game_over():\n",
    "    plt.text(0.5, 0.5, \"Game Over: You were killed by monsters!\", \n",
    "             fontsize=20, ha='center', va='center', color='red', transform=plt.gca().transAxes)\n",
    "\n",
    "# Add ictory function\n",
    "def display_victory():\n",
    "    plt.text(0.5, 0.5, \"Victory: You reached the target!\", \n",
    "             fontsize=20, ha='center', va='center', color='green', transform=plt.gca().transAxes)\n",
    "\n",
    "path = bfs(game_map, start, target)\n",
    "\n",
    "#path = dfs(game_map, start, target)\n",
    "#path = greedy(game_map, start, target, manhattan_distance)\n",
    "'''\n",
    "beam_width = 3\n",
    "path = beam_search(game_map, start, target, manhattan_distance, beam_width)\n",
    "'''\n",
    "'''\n",
    "max_depth = 20\n",
    "path = iddfs(game_map, start, target, max_depth)\n",
    "'''\n",
    "#path = theta_star(game_map, start, target, euclidean_distance)\n",
    "\n",
    "\n",
    "actions = actions_from_path(start, path[1:])\n",
    "\n",
    "print(game_mex)\n",
    "\n",
    "image = plt.imshow(game[:coordinates[0], :coordinates[1]])\n",
    "for action in actions:\n",
    "    s, _, done, _ = env.step(action)  # `done` say to us when the simulation is over\n",
    "    image.set_data(s['pixel'][:coordinates[0], :coordinates[1]])\n",
    "    \n",
    "    \n",
    "    # If the simulation is done\n",
    "    if done:\n",
    "        # If player's hp are equal to 0 it means that he is dead\n",
    "        if hp == 0: \n",
    "            display_game_over()\n",
    "            break  # Interrupt the smulation\n",
    "\n",
    "        # Else you have won    \n",
    "        display_victory()\n",
    "        break  # Interrupt the smulation\n",
    "\n",
    "\n",
    "    # Update the game visualization\n",
    "    display.display(plt.gcf())\n",
    "    display.clear_output(wait=True)"
   ],
   "execution_count": 7,
   "outputs": []
  }
 ],
 "metadata": {
  "kernelspec": {
   "display_name": "nle",
   "language": "python",
   "name": "python3"
  },
  "language_info": {
   "codemirror_mode": {
    "name": "ipython",
    "version": 3
   },
   "file_extension": ".py",
   "mimetype": "text/x-python",
   "name": "python",
   "nbconvert_exporter": "python",
   "pygments_lexer": "ipython3",
   "version": "3.8.20"
  }
 },
 "nbformat": 4,
 "nbformat_minor": 2
}
