{
 "cells": [
  {
   "cell_type": "markdown",
   "metadata": {},
   "source": [
    "## Problem 01: pointed mutation\n",
    "\n",
    "The pointed mutation is not good because if i have to change a single step of a path this step must be valid to the previous and to the next step and this situation is very unconvenient because not so much (almost no one) pair of coordinates share more than one neighbor so the mutation don't mutate nothing because there are no malid mutation that we can do\n",
    "\n",
    "### solution:\n",
    "\n",
    "- The mutation choose a random point and change that coordinate and create a random path of 5 or less (if the distance cut off from the original is less than 5) steps\n",
    "\n",
    "- now the mutation_rate is the probability of mutation of a certain path, e.g. 0.9 means that at 90% the path will mutate"
   ]
  },
  {
   "cell_type": "markdown",
   "metadata": {},
   "source": [
    "## Problem 02: fitness (distance - local maxima)\n",
    "\n",
    "When the player stuck on  a point and doesn't leave from there because every other move would take the player more distant from the target and the main aim of the algorithm is to get closer to the target\n",
    "\n",
    "### solution:\n",
    "\n",
    "- Insert a penalty on repreated the same final target that could mean a local maxima\n",
    "- Inserting some crucial mutations that create a new path and a new way of thinking"
   ]
  },
  {
   "cell_type": "markdown",
   "metadata": {},
   "source": [
    "## Problem 03: fitness (diversity)\n",
    "\n",
    "Sometimes the paths are very similar to each other so we added a diversity check behavior on the fitness to penalize the similar paths (is the beginning of a study on the next problem, the deadend problem)"
   ]
  },
  {
   "cell_type": "markdown",
   "metadata": {},
   "source": [
    "## Problem 04: fitness (deadend)\n",
    "\n",
    "When the player reach a good point but that way takes us to a deadend. For the algorithm is very good because the player goes very close to the target but the problem is that the algorithm will not find a solution because all new child think that that way is the best path\n",
    "\n",
    "### solution:\n",
    "\n",
    "- We control the stagnation and when after around 100 generation there is no solution we reset the total population biases. The reset must be total because is very difficult to eradicate the previous local maxima even if we change half of the population, the power of mutation is simply not enough. (e.g. we have the seed 31 to see the deadend example) \n",
    "\n",
    "- We also add a behavior in fitness with tabu paths, that are paths that before the reset of population didn't take the player in target (for local maxima or deadends) so we avoid these particular paths in next generations\n",
    "\n"
   ]
  },
  {
   "cell_type": "markdown",
   "metadata": {},
   "source": [
    "## feature 01: evaluation\n",
    "\n",
    "We added a way to evaluate our algorithm. Most important metrics are the percentage of successfull computation of the algorithm, the mean generations to find a solution and the computation time.\n",
    "\n",
    "- a simple evaluation of a single iteration with metrics about the run\n",
    "- a performance evaluation process in which we can insert a custom number of iteration and at the end we have the average performance of positive run\n"
   ]
  },
  {
   "cell_type": "markdown",
   "metadata": {},
   "source": []
  },
  {
   "cell_type": "markdown",
   "metadata": {},
   "source": [
    "## Problem 05: how to find max_steps\n",
    "\n",
    "The value max_steps need to be dinamic so we need to find a way to change the value\n",
    "\n",
    "### solution:\n",
    "\n",
    "Everytime we reset the population we increase the number of max steps giving more possibiliies to find a better path\n"
   ]
  },
  {
   "cell_type": "markdown",
   "metadata": {},
   "source": [
    "........................."
   ]
  },
  {
   "cell_type": "markdown",
   "metadata": {},
   "source": [
    "..........................."
   ]
  },
  {
   "cell_type": "markdown",
   "metadata": {},
   "source": [
    "# MONTE CARLO"
   ]
  },
  {
   "cell_type": "markdown",
   "metadata": {},
   "source": [
    "## Problem 01: insufficient number of steps\n",
    "\n",
    "In a certain fixed number of steps "
   ]
  },
  {
   "cell_type": "markdown",
   "metadata": {},
   "source": []
  }
 ],
 "metadata": {
  "language_info": {
   "name": "python"
  }
 },
 "nbformat": 4,
 "nbformat_minor": 2
}
